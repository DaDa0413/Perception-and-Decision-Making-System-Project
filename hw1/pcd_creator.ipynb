{
 "cells": [
  {
   "cell_type": "code",
   "execution_count": 1,
   "id": "0f7ab083",
   "metadata": {},
   "outputs": [
    {
     "name": "stdout",
     "output_type": "stream",
     "text": [
      "0.12.0\n"
     ]
    }
   ],
   "source": [
    "import open3d as o3d\n",
    "import numpy as np\n",
    "import cv2\n",
    "import copy\n",
    "\n",
    "file_path = 'my_pic/'\n",
    "image_number = 233\n",
    "print(o3d.__version__)\n",
    "# intrinsic matrix\n",
    "intrinsic = [[1/256, 0, -1],\n",
    "             [0, 1/256, -1],\n",
    "             [0,     0,  1]]\n",
    "\n",
    "def create_pcd_from_rgbd(depth_raw, intrinsic):\n",
    "    pcd = []\n",
    "    for i in range(0, 512):\n",
    "        for j in range(0, 512):\n",
    "            d = depth_raw[i, j] / 255 * 10 / 1000\n",
    "            point = (d * (np.dot(intrinsic, np.array([[i, j, 1]]).T))).T\n",
    "            point = np.squeeze(point)\n",
    "            pcd.append(point)\n",
    "    return pcd\n"
   ]
  },
  {
   "cell_type": "code",
   "execution_count": 2,
   "id": "1b550c5c",
   "metadata": {},
   "outputs": [],
   "source": [
    "\n",
    "# pcd\n",
    "file_path = 'my_pic/'\n",
    "for index in range(0, image_number + 1):\n",
    "    file_name = \"{:04d}\".format(index)\n",
    "    color_raw = cv2.imread(file_path + \"color/\" + file_name + \".jpg\")\n",
    "    depth_raw = cv2.imread(file_path + \"depth/\" + file_name + \".png\", cv2.IMREAD_GRAYSCALE)\n",
    "\n",
    "    xyz = create_pcd_from_rgbd(depth_raw, intrinsic)\n",
    "    color = color_raw.reshape((-1, 3)) / 255\n",
    "\n",
    "    pcd = o3d.geometry.PointCloud()\n",
    "    pcd.points = o3d.utility.Vector3dVector(xyz)\n",
    "    pcd.colors = o3d.utility.Vector3dVector(color)\n",
    "\n",
    "    pcd.transform([[1, 0, 0, 0], [0, -1, 0, 0], [0, 0, 1, 0], [0, 0, 0, 1]])\n",
    "    pcd.estimate_normals()\n",
    "    o3d.io.write_point_cloud(file_path + 'pcd/' + file_name + '.pcd', pcd) \n",
    "#     o3d.visualizationㄊ.draw_geometries([pcd])"
   ]
  },
  {
   "cell_type": "code",
   "execution_count": 3,
   "id": "82ad1051",
   "metadata": {},
   "outputs": [],
   "source": [
    "pcd = o3d.io.read_point_cloud(file_path + 'pcd/' + \"0000\" + '.pcd') \n",
    "# pcd.estimate_normals()\n",
    "# print(pcd.has_normals())\n",
    "# o3d.visualization.draw_geometries([pcd])"
   ]
  }
 ],
 "metadata": {
  "kernelspec": {
   "display_name": "habitat",
   "language": "python",
   "name": "habitat"
  },
  "language_info": {
   "codemirror_mode": {
    "name": "ipython",
    "version": 3
   },
   "file_extension": ".py",
   "mimetype": "text/x-python",
   "name": "python",
   "nbconvert_exporter": "python",
   "pygments_lexer": "ipython3",
   "version": "3.6.13"
  }
 },
 "nbformat": 4,
 "nbformat_minor": 5
}
