{
 "cells": [
  {
   "cell_type": "code",
   "execution_count": 1,
   "id": "0f7ab083",
   "metadata": {},
   "outputs": [
    {
     "name": "stdout",
     "output_type": "stream",
     "text": [
      "0.12.0\n"
     ]
    }
   ],
   "source": [
    "import open3d as o3d\n",
    "import numpy as np\n",
    "import cv2\n",
    "import copy\n",
    "\n",
    "file_path = 'Data_collection/first_floor/'\n",
    "image_number = 189\n",
    "print(o3d.__version__)\n",
    "# intrinsic matrix\n",
    "K = np.array([[256, 0, 255],\n",
    "              [0, 256, 255],\n",
    "              [0,   0,  1]])\n",
    "\n",
    "def depth_image_to_point_cloud(rgb, depth, K):\n",
    "    # Image plane\n",
    "    u = range(0, rgb.shape[1])\n",
    "    v = range(0, rgb.shape[0])\n",
    "    u, v = np.meshgrid(u, v)\n",
    "    u = u.astype(float)\n",
    "    v = v.astype(float)\n",
    "    # Image plane to object plane\n",
    "    depth_scale = 1000.0\n",
    "    Z = depth.astype(float) / depth_scale\n",
    "    X = (u - K[0, 2]) * Z / K[0, 0] # (u-cx) * Z / fx\n",
    "    Y = (v - K[1, 2]) * Z / K[1, 1] # (v-cy) * Z / fy\n",
    "    # Flatten and remove invalid point\n",
    "    X = np.ravel(X)\n",
    "    Y = np.ravel(Y)\n",
    "    Z = np.ravel(Z)\n",
    "    valid = Z  > 0\n",
    "    X = X[valid]\n",
    "    Y = Y[valid]\n",
    "    Z = Z[valid]\n",
    "    position = np.vstack((X, Y, Z,))\n",
    "\n",
    "    R = np.ravel(rgb[:, :, 0])[valid]/255.\n",
    "    G = np.ravel(rgb[:, :, 1])[valid]/255.\n",
    "    B = np.ravel(rgb[:, :, 2])[valid]/255.\n",
    "    points = np.transpose(position)\n",
    "    colors = np.transpose(np.vstack((R, G, B)))\n",
    "    return(points, colors)"
   ]
  },
  {
   "cell_type": "code",
   "execution_count": 2,
   "id": "1b550c5c",
   "metadata": {},
   "outputs": [],
   "source": [
    "\n",
    "# pcd\n",
    "for index in range(0, image_number + 1):\n",
    "    file_name = \"{:04d}\".format(index)\n",
    "    color_raw = cv2.imread(file_path + \"color/\" + file_name + \".jpg\", cv2.IMREAD_COLOR)\n",
    "    depth_raw = cv2.imread(file_path + \"depth/\" + file_name + \".png\", cv2.IMREAD_UNCHANGED)\n",
    "    points, colors = depth_image_to_point_cloud(color_raw, depth_raw, K)\n",
    "\n",
    "    pcd = o3d.geometry.PointCloud()\n",
    "    pcd.points = o3d.utility.Vector3dVector(points)\n",
    "    pcd.colors = o3d.utility.Vector3dVector(colors)\n",
    "\n",
    "    o3d.io.write_point_cloud(file_path + 'pcd/' + file_name + '.pcd', pcd) "
   ]
  }
 ],
 "metadata": {
  "kernelspec": {
   "display_name": "habitat2",
   "language": "python",
   "name": "habitat2"
  },
  "language_info": {
   "codemirror_mode": {
    "name": "ipython",
    "version": 3
   },
   "file_extension": ".py",
   "mimetype": "text/x-python",
   "name": "python",
   "nbconvert_exporter": "python",
   "pygments_lexer": "ipython3",
   "version": "3.6.13"
  }
 },
 "nbformat": 4,
 "nbformat_minor": 5
}
